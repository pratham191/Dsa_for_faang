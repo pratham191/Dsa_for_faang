{
 "cells": [
  {
   "cell_type": "code",
   "execution_count": 26,
   "id": "2b5d5779-3bc7-4ba3-ae5c-9b1a274b5688",
   "metadata": {},
   "outputs": [
    {
     "name": "stdout",
     "output_type": "stream",
     "text": [
      "5\n"
     ]
    }
   ],
   "source": [
    "#time complexity:O(n)\n",
    "#space complexity=O(1)S\n",
    "def linear_search(arr,x):\n",
    "    for i in range (len (arr)):\n",
    "        if arr[i]==x:\n",
    "            return i\n",
    "    else: return -1\n",
    "\n",
    "\n",
    "\n",
    "\n",
    "arr=[20,45,27,47,55,67,90,69,70]\n",
    "x=67\n",
    "# x=int(input (\"enter a number from a given number\"))\n",
    "#calling a function\n",
    "result= linear_search(arr,x)\n",
    "print (result)"
   ]
  },
  {
   "cell_type": "code",
   "execution_count": null,
   "id": "f98a0933-0c26-45ec-a090-bc770722de5d",
   "metadata": {},
   "outputs": [],
   "source": []
  }
 ],
 "metadata": {
  "kernelspec": {
   "display_name": "Python 3 (ipykernel)",
   "language": "python",
   "name": "python3"
  },
  "language_info": {
   "codemirror_mode": {
    "name": "ipython",
    "version": 3
   },
   "file_extension": ".py",
   "mimetype": "text/x-python",
   "name": "python",
   "nbconvert_exporter": "python",
   "pygments_lexer": "ipython3",
   "version": "3.12.4"
  }
 },
 "nbformat": 4,
 "nbformat_minor": 5
}
