{
 "cells": [
  {
   "cell_type": "code",
   "execution_count": 2,
   "id": "26db8a1d-100d-419c-9539-9a2481227040",
   "metadata": {},
   "outputs": [
    {
     "name": "stdout",
     "output_type": "stream",
     "text": [
      "(2, 5)\n"
     ]
    }
   ],
   "source": [
    "def first_occ(arr, n, key):\n",
    "    s, e = 0, n - 1\n",
    "    ans = -1\n",
    "    while s <= e:\n",
    "        mid = s + (e - s) // 2\n",
    "        if arr[mid] == key:\n",
    "            ans = mid\n",
    "            e = mid - 1  # move left for first occurrence\n",
    "        elif key > arr[mid]:\n",
    "            s = mid + 1\n",
    "        else:\n",
    "            e = mid - 1\n",
    "    return ans\n",
    "\n",
    "\n",
    "def last_occ(arr, n, key):\n",
    "    s, e = 0, n - 1\n",
    "    ans = -1\n",
    "    while s <= e:\n",
    "        mid = s + (e - s) // 2\n",
    "        if arr[mid] == key:\n",
    "            ans = mid\n",
    "            s = mid + 1  # move right for last occurrence\n",
    "        elif key > arr[mid]:\n",
    "            s = mid + 1\n",
    "        else:\n",
    "            e = mid - 1\n",
    "    return ans\n",
    "\n",
    "\n",
    "def first_and_last_position(arr, n, k):\n",
    "    return (first_occ(arr, n, k), last_occ(arr, n, k))\n",
    "\n",
    "\n",
    "# Example usage:\n",
    "arr = [1, 2, 3, 3, 3, 3, 5]\n",
    "key = 3\n",
    "result=first_and_last_position(arr, len(arr), key)\n",
    "print(result) # (2, 5)\n"
   ]
  },
  {
   "cell_type": "code",
   "execution_count": null,
   "id": "c38ebe82-2605-4038-a138-d290a6804faa",
   "metadata": {},
   "outputs": [],
   "source": [
    "\n"
   ]
  }
 ],
 "metadata": {
  "kernelspec": {
   "display_name": "Python 3 (ipykernel)",
   "language": "python",
   "name": "python3"
  },
  "language_info": {
   "codemirror_mode": {
    "name": "ipython",
    "version": 3
   },
   "file_extension": ".py",
   "mimetype": "text/x-python",
   "name": "python",
   "nbconvert_exporter": "python",
   "pygments_lexer": "ipython3",
   "version": "3.12.4"
  }
 },
 "nbformat": 4,
 "nbformat_minor": 5
}
