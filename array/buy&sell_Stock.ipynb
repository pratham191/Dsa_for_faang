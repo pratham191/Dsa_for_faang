{
 "cells": [
  {
   "cell_type": "code",
   "execution_count": 6,
   "id": "724fe049-76ec-4e0d-9397-5c12dc701881",
   "metadata": {},
   "outputs": [
    {
     "name": "stdout",
     "output_type": "stream",
     "text": [
      "max profit value is: 5\n"
     ]
    }
   ],
   "source": [
    "#time complexity is O(n)\n",
    "def max_profit_value(price):\n",
    "     min_price=float('inf') #inf=infnity\n",
    "     max_profit=0\n",
    "     for i in range (len(price)):\n",
    "        if price[i]<min_price:\n",
    "            min_price=price[i]\n",
    "        elif price[i]-min_price>max_profit:\n",
    "            max_profit= price[i]-min_price\n",
    "     return max_profit\n",
    "\n",
    "\n",
    "\n",
    "#Drive code\n",
    "price=[7,1,5,3,6,4]\n",
    "max_profit=max_profit_value(price)\n",
    "print(\"max profit value is:\",max_profit)"
   ]
  },
  {
   "cell_type": "code",
   "execution_count": null,
   "id": "a2e4ab73-cadc-403e-ad5e-ca99feb434c3",
   "metadata": {},
   "outputs": [],
   "source": []
  }
 ],
 "metadata": {
  "kernelspec": {
   "display_name": "Python 3 (ipykernel)",
   "language": "python",
   "name": "python3"
  },
  "language_info": {
   "codemirror_mode": {
    "name": "ipython",
    "version": 3
   },
   "file_extension": ".py",
   "mimetype": "text/x-python",
   "name": "python",
   "nbconvert_exporter": "python",
   "pygments_lexer": "ipython3",
   "version": "3.12.4"
  }
 },
 "nbformat": 4,
 "nbformat_minor": 5
}
