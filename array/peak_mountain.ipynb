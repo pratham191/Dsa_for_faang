{
 "cells": [
  {
   "cell_type": "code",
   "execution_count": 6,
   "id": "940a3091-cc4c-4295-a60a-64f0fef02f9b",
   "metadata": {},
   "outputs": [
    {
     "name": "stdout",
     "output_type": "stream",
     "text": [
      "3\n"
     ]
    }
   ],
   "source": [
    "class Solution:\n",
    "    def find_pivot(self, v):\n",
    "        s, e = 0, len(v) - 1\n",
    "        while s < e:\n",
    "            mid = (s + e) // 2\n",
    "            if v[mid] < v[mid + 1]:\n",
    "                s = mid + 1\n",
    "            else:\n",
    "                e = mid\n",
    "        return s\n",
    "\n",
    "    def peakIndexInMountainArray(self, arr):\n",
    "        return self.find_pivot(arr)\n",
    "\n",
    "\n",
    "# Example usage\n",
    "arr = [0, 2, 5, 7, 6, 3, 1]\n",
    "sol = Solution()\n",
    "print(sol.peakIndexInMountainArray(arr))  # Output: 3 (peak element = 7 at index 3)\n"
   ]
  },
  {
   "cell_type": "code",
   "execution_count": null,
   "id": "e4a8d4a9-d673-41f8-b4b7-8a7cee6e38d3",
   "metadata": {},
   "outputs": [],
   "source": []
  }
 ],
 "metadata": {
  "kernelspec": {
   "display_name": "Python 3 (ipykernel)",
   "language": "python",
   "name": "python3"
  },
  "language_info": {
   "codemirror_mode": {
    "name": "ipython",
    "version": 3
   },
   "file_extension": ".py",
   "mimetype": "text/x-python",
   "name": "python",
   "nbconvert_exporter": "python",
   "pygments_lexer": "ipython3",
   "version": "3.12.4"
  }
 },
 "nbformat": 4,
 "nbformat_minor": 5
}
