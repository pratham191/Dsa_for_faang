{
 "cells": [
  {
   "cell_type": "code",
   "execution_count": 26,
   "id": "3a9ac356-abe9-4728-afb0-ef31afe16705",
   "metadata": {},
   "outputs": [
    {
     "name": "stdout",
     "output_type": "stream",
     "text": [
      "5\n"
     ]
    }
   ],
   "source": [
    "#using recursion\n",
    "def binary_search(arr,x,s,e):\n",
    " \n",
    "    while s<=e:\n",
    "        mid =s+(e-s)//2\n",
    "        if (arr[mid]==x):\n",
    "            return mid\n",
    "        \n",
    "        elif (x>arr[mid]): #right me \n",
    "            return binary_search(arr,x,mid+1,e)\n",
    "          \n",
    "        elif (x< arr[mid]): #left me jao\n",
    "            return binary_search(arr,x,s,mid-1)\n",
    "    return -1\n",
    "        \n",
    "   \n",
    "\n",
    "\n",
    "\n",
    "arr=[20,30,40,50,60,70,80,90]\n",
    "x=70\n",
    "s=0;\n",
    "e=len(arr)-1;\n",
    "#calling a fun\n",
    "result = binary_search(arr,x,s,e)\n",
    "print (result)\n"
   ]
  },
  {
   "cell_type": "code",
   "execution_count": 33,
   "id": "7d44746f-8eb3-4803-a390-c75a10c30ca0",
   "metadata": {},
   "outputs": [
    {
     "name": "stdout",
     "output_type": "stream",
     "text": [
      "5\n"
     ]
    }
   ],
   "source": [
    "#without using recursion\n",
    "\n",
    "def binary_search(arr,x,s,e):\n",
    " \n",
    "    while s<=e:\n",
    "        mid =s+(e-s)//2\n",
    "        if (arr[mid]==x):\n",
    "            return mid\n",
    "        \n",
    "        elif (x>arr[mid]): #right me \n",
    "            s=mid+1\n",
    "          \n",
    "        else: # #left me jao\n",
    "            e= mid-1\n",
    "    return -1\n",
    "        \n",
    "   \n",
    "\n",
    "\n",
    "\n",
    "arr=[20,30,40,50,60,70,80,90]\n",
    "x=70\n",
    "s=0;\n",
    "e=len(arr)-1;\n",
    "#calling a fun\n",
    "result = binary_search(arr,x,s,e)\n",
    "print (result)\n",
    "\n"
   ]
  },
  {
   "cell_type": "code",
   "execution_count": 40,
   "id": "59fafbd3-6267-473a-8d2a-8a6fe44b2963",
   "metadata": {},
   "outputs": [
    {
     "name": "stdout",
     "output_type": "stream",
     "text": [
      "7\n"
     ]
    }
   ],
   "source": [
    "def binary_search(arr,x,s,e):\n",
    "    while s<=e:\n",
    "        mid=s+(e-s)//2\n",
    "        if (arr[mid]==x):\n",
    "            return mid\n",
    "        elif (x>arr[mid]):\n",
    "            s=mid+1\n",
    "        else: e=mid-1\n",
    "\n",
    "    return -1\n",
    "    \n",
    "\n",
    "\n",
    "\n",
    "\n",
    "\n",
    "arr=[10,20,30,40,50,60,70,75,79]\n",
    "x=75\n",
    "s=0;\n",
    "e=len(arr)-1\n",
    "result=binary_search(arr,x,s,e)\n",
    "print (result)"
   ]
  },
  {
   "cell_type": "code",
   "execution_count": null,
   "id": "b4b9a721-db0a-40a8-9cc0-e3a332397fd5",
   "metadata": {},
   "outputs": [],
   "source": []
  }
 ],
 "metadata": {
  "kernelspec": {
   "display_name": "Python 3 (ipykernel)",
   "language": "python",
   "name": "python3"
  },
  "language_info": {
   "codemirror_mode": {
    "name": "ipython",
    "version": 3
   },
   "file_extension": ".py",
   "mimetype": "text/x-python",
   "name": "python",
   "nbconvert_exporter": "python",
   "pygments_lexer": "ipython3",
   "version": "3.12.4"
  }
 },
 "nbformat": 4,
 "nbformat_minor": 5
}
