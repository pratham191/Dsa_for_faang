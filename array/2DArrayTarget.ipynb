{
 "cells": [
  {
   "cell_type": "code",
   "execution_count": 14,
   "id": "6224b61e-30fa-499b-812c-0c1b1bd0be25",
   "metadata": {},
   "outputs": [
    {
     "name": "stdout",
     "output_type": "stream",
     "text": [
      "True\n"
     ]
    }
   ],
   "source": [
    "# time complexity O(log(m*n))\n",
    "def searchin2D_arr(arr,target):\n",
    "    #no of rows \n",
    "    m=len(arr)\n",
    "    if m==0:\n",
    "     return False\n",
    "    #no of columns\n",
    "    n=len(arr[0])\n",
    "    s,e=0,m*n-1\n",
    "    #binary search implementation\n",
    "    while s<=e:\n",
    "        mid= s+(e-s)//2\n",
    "        mid_element=arr[mid//n][mid%n]\n",
    "        if mid_element==target:\n",
    "            return True\n",
    "        elif target<mid_element:\n",
    "            e=mid-1\n",
    "        else:\n",
    "            s=mid+1\n",
    "    return False\n",
    "        \n",
    "\n",
    "\n",
    "\n",
    "\n",
    "arr=[[1,3,5,7],[10,11,16,20],[23,30,34,60]]\n",
    "target=3\n",
    "result=searchin2D_arr(arr,target)\n",
    "print (result)"
   ]
  },
  {
   "cell_type": "code",
   "execution_count": null,
   "id": "3739844f-5dc8-48de-89cb-ae0603fd2382",
   "metadata": {},
   "outputs": [],
   "source": []
  },
  {
   "cell_type": "code",
   "execution_count": null,
   "id": "664dd37d-0fe7-4ebc-a0e7-f0492a25d188",
   "metadata": {},
   "outputs": [],
   "source": []
  }
 ],
 "metadata": {
  "kernelspec": {
   "display_name": "Python 3 (ipykernel)",
   "language": "python",
   "name": "python3"
  },
  "language_info": {
   "codemirror_mode": {
    "name": "ipython",
    "version": 3
   },
   "file_extension": ".py",
   "mimetype": "text/x-python",
   "name": "python",
   "nbconvert_exporter": "python",
   "pygments_lexer": "ipython3",
   "version": "3.12.4"
  }
 },
 "nbformat": 4,
 "nbformat_minor": 5
}
