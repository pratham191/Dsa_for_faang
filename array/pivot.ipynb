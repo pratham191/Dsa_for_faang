{
 "cells": [
  {
   "cell_type": "code",
   "execution_count": 10,
   "id": "57ea8092-3d70-4c0c-953a-51515b3c24b5",
   "metadata": {},
   "outputs": [
    {
     "name": "stdout",
     "output_type": "stream",
     "text": [
      "3\n",
      "Pivot element: 1\n"
     ]
    }
   ],
   "source": [
    "#pivot mtlb min num\n",
    "\n",
    "def pivot_arr(arr):\n",
    " s=0\n",
    " e=len(arr)-1\n",
    " while s<e:\n",
    "     mid=s+(e-s)//2\n",
    "     if arr[mid]>arr[0]:\n",
    "          s=mid+1\n",
    "     else:\n",
    "         e=mid\n",
    "      # mid = s+(e-s)//2\n",
    " return s\n",
    "arr=[8,10,17,1,3]\n",
    "result =pivot_arr(arr)\n",
    "print(result)\n",
    "print(\"Pivot element:\", arr[result])"
   ]
  },
  {
   "cell_type": "code",
   "execution_count": null,
   "id": "4c0603bb-00ad-4fb9-81a3-2d3dbf7d809b",
   "metadata": {},
   "outputs": [],
   "source": []
  }
 ],
 "metadata": {
  "kernelspec": {
   "display_name": "Python 3 (ipykernel)",
   "language": "python",
   "name": "python3"
  },
  "language_info": {
   "codemirror_mode": {
    "name": "ipython",
    "version": 3
   },
   "file_extension": ".py",
   "mimetype": "text/x-python",
   "name": "python",
   "nbconvert_exporter": "python",
   "pygments_lexer": "ipython3",
   "version": "3.12.4"
  }
 },
 "nbformat": 4,
 "nbformat_minor": 5
}
