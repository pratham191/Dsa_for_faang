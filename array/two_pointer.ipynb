{
 "cells": [
  {
   "cell_type": "code",
   "execution_count": 6,
   "id": "6b0ddcd0-067f-41fa-b446-44f2213b21b9",
   "metadata": {},
   "outputs": [
    {
     "name": "stdout",
     "output_type": "stream",
     "text": [
      "(4, 5)\n"
     ]
    }
   ],
   "source": [
    "# time com O(n)\n",
    "def two_sum(arr,target_sum):\n",
    " s=0\n",
    " e=len(arr)-1\n",
    " while s<=e:\n",
    "        if arr[s]+arr[e]==target_sum:\n",
    "            return s,e\n",
    "        elif arr[s]+arr[e]< target_sum:\n",
    "            s+=1\n",
    "        else:\n",
    "            e-=1\n",
    " return -1,-1\n",
    "arr=[20,40,60,80,90,120,240]\n",
    "target_sum= 210\n",
    "result= two_sum(arr,target_sum)\n",
    "print(result)\n",
    "        "
   ]
  },
  {
   "cell_type": "code",
   "execution_count": null,
   "id": "79c5c53d-edda-4657-a09a-6b3ab429ed28",
   "metadata": {},
   "outputs": [],
   "source": []
  }
 ],
 "metadata": {
  "kernelspec": {
   "display_name": "Python 3 (ipykernel)",
   "language": "python",
   "name": "python3"
  },
  "language_info": {
   "codemirror_mode": {
    "name": "ipython",
    "version": 3
   },
   "file_extension": ".py",
   "mimetype": "text/x-python",
   "name": "python",
   "nbconvert_exporter": "python",
   "pygments_lexer": "ipython3",
   "version": "3.12.4"
  }
 },
 "nbformat": 4,
 "nbformat_minor": 5
}
