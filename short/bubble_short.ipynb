{
 "cells": [
  {
   "cell_type": "code",
   "execution_count": 2,
   "id": "36054ff8-b319-4a10-bc3d-8d4346d91349",
   "metadata": {},
   "outputs": [
    {
     "name": "stdout",
     "output_type": "stream",
     "text": [
      "Array after using bubble short is: [20, 23, 25, 37, 30, 50, 49, 70, 2]\n"
     ]
    }
   ],
   "source": [
    "#time complexity is O(n2)\n",
    "def bubble_short(arr):\n",
    "    n=len(arr)\n",
    "    for i in range(n):\n",
    "        for j in range (0,n-i-1):\n",
    "            if arr[j]>arr[j+i]:\n",
    "                #swap the element\n",
    "                arr[j],arr[j+i]=arr[j+i],arr[j]\n",
    "    return arr\n",
    "\n",
    "\n",
    "\n",
    "#driver code\n",
    "arr=[20,70,30,25,37,49,50,23,2]\n",
    "result=bubble_short(arr)\n",
    "print(\"Array after using bubble short is:\",result)"
   ]
  },
  {
   "cell_type": "code",
   "execution_count": null,
   "id": "fcb063a7-8b5c-4f74-96bd-9211ef5666cf",
   "metadata": {},
   "outputs": [],
   "source": [
    "\n"
   ]
  }
 ],
 "metadata": {
  "kernelspec": {
   "display_name": "Python 3 (ipykernel)",
   "language": "python",
   "name": "python3"
  },
  "language_info": {
   "codemirror_mode": {
    "name": "ipython",
    "version": 3
   },
   "file_extension": ".py",
   "mimetype": "text/x-python",
   "name": "python",
   "nbconvert_exporter": "python",
   "pygments_lexer": "ipython3",
   "version": "3.12.4"
  }
 },
 "nbformat": 4,
 "nbformat_minor": 5
}
