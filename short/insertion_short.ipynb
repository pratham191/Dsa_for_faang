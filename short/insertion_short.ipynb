{
 "cells": [
  {
   "cell_type": "code",
   "execution_count": 8,
   "id": "956cff16-0185-4417-be59-1c1e97a4bb6c",
   "metadata": {},
   "outputs": [
    {
     "name": "stdout",
     "output_type": "stream",
     "text": [
      "[75, 80, 85, 90, 95, 100]\n"
     ]
    }
   ],
   "source": [
    "# time comp O(n^2)\n",
    "def insertion_short(arr):\n",
    " for i in range(1, len(arr)):\n",
    "     j=i-1\n",
    "     key=arr[i]\n",
    "     while j>=0 and arr[j]> key:\n",
    "         arr[j+1]=arr[j]\n",
    "         j-=1\n",
    "     arr[j+1]=key\n",
    " return arr\n",
    "\n",
    "#driver code\n",
    "arr=[75,90,100,95,85,80]\n",
    "result=insertion_short(arr)\n",
    "print(result)"
   ]
  },
  {
   "cell_type": "code",
   "execution_count": null,
   "id": "4080ca2e-fedf-4036-94d5-b5adf2a94443",
   "metadata": {},
   "outputs": [],
   "source": []
  }
 ],
 "metadata": {
  "kernelspec": {
   "display_name": "Python 3 (ipykernel)",
   "language": "python",
   "name": "python3"
  },
  "language_info": {
   "codemirror_mode": {
    "name": "ipython",
    "version": 3
   },
   "file_extension": ".py",
   "mimetype": "text/x-python",
   "name": "python",
   "nbconvert_exporter": "python",
   "pygments_lexer": "ipython3",
   "version": "3.12.4"
  }
 },
 "nbformat": 4,
 "nbformat_minor": 5
}
