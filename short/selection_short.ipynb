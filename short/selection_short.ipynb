{
 "cells": [
  {
   "cell_type": "code",
   "execution_count": 10,
   "id": "fc3eb019-526d-4de1-b3fb-056a4e8e6e41",
   "metadata": {},
   "outputs": [
    {
     "name": "stdout",
     "output_type": "stream",
     "text": [
      "Array after using selection short is: [2, 20, 23, 25, 30, 37, 49, 50, 70]\n"
     ]
    }
   ],
   "source": [
    "#time comp O(n2)\n",
    "\n",
    "def selection_short(arr):\n",
    "    n=len(arr)\n",
    "    for i in range(n):\n",
    "        min_index=i\n",
    "        for j in range(i+1,n):\n",
    "            if arr[j]<arr[min_index]:\n",
    "                min_index=j\n",
    "                #swap\n",
    "        arr[i],arr[min_index]=arr[min_index],arr[i]\n",
    "    return arr\n",
    "\n",
    "\n",
    "#driver code\n",
    "arr=[20,70,30,25,37,49,50,23,2]\n",
    "result=selection_short(arr)\n",
    "print(\"Array after using selection short is:\",result)"
   ]
  },
  {
   "cell_type": "code",
   "execution_count": null,
   "id": "e59826a8-93f7-4e46-b3fc-7640f09621b0",
   "metadata": {},
   "outputs": [],
   "source": []
  }
 ],
 "metadata": {
  "kernelspec": {
   "display_name": "Python 3 (ipykernel)",
   "language": "python",
   "name": "python3"
  },
  "language_info": {
   "codemirror_mode": {
    "name": "ipython",
    "version": 3
   },
   "file_extension": ".py",
   "mimetype": "text/x-python",
   "name": "python",
   "nbconvert_exporter": "python",
   "pygments_lexer": "ipython3",
   "version": "3.12.4"
  }
 },
 "nbformat": 4,
 "nbformat_minor": 5
}
